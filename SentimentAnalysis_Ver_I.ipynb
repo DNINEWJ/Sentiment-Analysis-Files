{
 "cells": [
  {
   "cell_type": "code",
   "execution_count": 11,
   "metadata": {},
   "outputs": [],
   "source": [
    "# importing for ipywidgets\n",
    "from __future__ import print_function\n",
    "from ipywidgets import interact, interactive, fixed, interact_manual\n",
    "import ipywidgets as widgets"
   ]
  },
  {
   "cell_type": "code",
   "execution_count": 12,
   "metadata": {},
   "outputs": [],
   "source": [
    "#import to filter warnings\n",
    "import warnings\n",
    "warnings.filterwarnings('ignore')\n",
    "#!pip install numpy\n",
    "import numpy as np\n",
    "import pandas as pd\n",
    "import matplotlib.pyplot as plt\n",
    "import seaborn as sns\n",
    "import matplotlib.ticker as ticker\n",
    "from matplotlib.pyplot import xticks\n",
    "%matplotlib inline\n",
    "sns.set(style=\"whitegrid\")\n",
    "sns.set(rc={'figure.figsize':(16,10)})\n",
    "pd.set_option('display.max_rows', 400)\n",
    "pd.set_option('display.max_columns', 100)\n",
    "pd.set_option('display.max_colwidth', -1)"
   ]
  },
  {
   "cell_type": "code",
   "execution_count": 3,
   "metadata": {},
   "outputs": [],
   "source": [
    "#### convert the next cell to code to install textblob"
   ]
  },
  {
   "cell_type": "markdown",
   "metadata": {},
   "source": [
    "!pip install -U textblob"
   ]
  },
  {
   "cell_type": "code",
   "execution_count": 21,
   "metadata": {},
   "outputs": [
    {
     "name": "stderr",
     "output_type": "stream",
     "text": [
      "[nltk_data] Downloading package stopwords to\n",
      "[nltk_data]     C:\\Users\\Admin\\AppData\\Roaming\\nltk_data...\n",
      "[nltk_data]   Package stopwords is already up-to-date!\n",
      "[nltk_data] Downloading package punkt to\n",
      "[nltk_data]     C:\\Users\\Admin\\AppData\\Roaming\\nltk_data...\n",
      "[nltk_data]   Package punkt is already up-to-date!\n",
      "[nltk_data] Downloading package movie_reviews to\n",
      "[nltk_data]     C:\\Users\\Admin\\AppData\\Roaming\\nltk_data...\n",
      "[nltk_data]   Package movie_reviews is already up-to-date!\n",
      "[nltk_data] Downloading package twitter_samples to\n",
      "[nltk_data]     C:\\Users\\Admin\\AppData\\Roaming\\nltk_data...\n",
      "[nltk_data]   Unzipping corpora\\twitter_samples.zip.\n"
     ]
    }
   ],
   "source": [
    "\n",
    "import calendar\n",
    "import datetime as dt\n",
    "from PIL import Image\n",
    "from wordcloud import WordCloud, STOPWORDS, ImageColorGenerator\n",
    "import nltk\n",
    "nltk.download('stopwords')\n",
    "from nltk.corpus import stopwords\n",
    "nltk.download('punkt')\n",
    "nltk.download('movie_reviews')\n",
    "\n",
    "from nltk.tokenize import word_tokenize\n",
    "\n",
    "from nltk.tokenize import RegexpTokenizer\n",
    "from collections import Counter\n",
    "from textblob import TextBlob\n",
    "from textblob.sentiments import NaiveBayesAnalyzer"
   ]
  },
  {
   "cell_type": "markdown",
   "metadata": {},
   "source": [
    "# Put your input in the next block and name it inputdf"
   ]
  },
  {
   "cell_type": "code",
   "execution_count": 5,
   "metadata": {},
   "outputs": [],
   "source": [
    "\n",
    "inputdf=pd.read_excel(\"try.xlsx\",encoding=\"utf-8\")\n"
   ]
  },
  {
   "cell_type": "code",
   "execution_count": null,
   "metadata": {},
   "outputs": [],
   "source": [
    "inputdf['comments'] = inputdf['comments_text'].apply(lambda x: ','.join(map(str, x)))\n",
    "inputdf"
   ]
  },
  {
   "cell_type": "code",
   "execution_count": 6,
   "metadata": {
    "scrolled": true
   },
   "outputs": [
    {
     "data": {
      "application/vnd.jupyter.widget-view+json": {
       "model_id": "f20309fe050d4619b771fbee50c7a9fd",
       "version_major": 2,
       "version_minor": 0
      },
      "text/plain": [
       "interactive(children=(Dropdown(description='video', options=('Maithili Thakur sings her version of \"Perfect\"',…"
      ]
     },
     "metadata": {},
     "output_type": "display_data"
    }
   ],
   "source": [
    "@interact\n",
    "def readingcomments(video=inputdf.video_title.unique()):\n",
    "    words = inputdf.loc[inputdf['video_title'] == video].comments[0].lower().split(sep=\"b'\")\n",
    "    textblock=\" \".join(words)\n",
    "    wordsdf= pd.DataFrame(columns=[\"Comments_on_video ---   \" +video],data=words)\n",
    "    return wordsdf"
   ]
  },
  {
   "cell_type": "code",
   "execution_count": 7,
   "metadata": {},
   "outputs": [
    {
     "data": {
      "text/html": [
       "<div>\n",
       "<style scoped>\n",
       "    .dataframe tbody tr th:only-of-type {\n",
       "        vertical-align: middle;\n",
       "    }\n",
       "\n",
       "    .dataframe tbody tr th {\n",
       "        vertical-align: top;\n",
       "    }\n",
       "\n",
       "    .dataframe thead th {\n",
       "        text-align: right;\n",
       "    }\n",
       "</style>\n",
       "<table border=\"1\" class=\"dataframe\">\n",
       "  <thead>\n",
       "    <tr style=\"text-align: right;\">\n",
       "      <th></th>\n",
       "      <th>Post_Id</th>\n",
       "      <th>Video_Title</th>\n",
       "      <th>Sentiment on Video</th>\n",
       "      <th>Subjectivity on Video</th>\n",
       "    </tr>\n",
       "  </thead>\n",
       "  <tbody>\n",
       "  </tbody>\n",
       "</table>\n",
       "</div>"
      ],
      "text/plain": [
       "Empty DataFrame\n",
       "Columns: [Post_Id, Video_Title, Sentiment on Video, Subjectivity on Video]\n",
       "Index: []"
      ]
     },
     "execution_count": 7,
     "metadata": {},
     "output_type": "execute_result"
    }
   ],
   "source": [
    "global Sentiment\n",
    "Heads=[\"Post_Id\",'Video_Title', 'Sentiment on Video','Subjectivity on Video']\n",
    "Sentiment=pd.DataFrame(columns=Heads)\n",
    "Sentiment"
   ]
  },
  {
   "cell_type": "raw",
   "metadata": {},
   "source": [
    "We can see the output is categorized between two — Polarity and Subjectivity.\n",
    "Polarity is a float value within the range [-1.0 to 1.0] where 0 indicates neutral, +1 indicates a very positive sentiment and -1 represents a very negative sentiment.\n",
    "Subjectivity is a float value within the range [0.0 to 1.0] where 0.0 is very objective and 1.0 is very subjective. Subjective sentence expresses some personal feelings, views, beliefs, opinions, allegations, desires, beliefs, suspicions, and speculations where as Objective sentences are factual."
   ]
  },
  {
   "cell_type": "code",
   "execution_count": 8,
   "metadata": {},
   "outputs": [
    {
     "data": {
      "application/vnd.jupyter.widget-view+json": {
       "model_id": "84ec513bc4504d7b8736b2b323fc3dd1",
       "version_major": 2,
       "version_minor": 0
      },
      "text/plain": [
       "interactive(children=(Dropdown(description='video', options=('Maithili Thakur sings her version of \"Perfect\"',…"
      ]
     },
     "metadata": {},
     "output_type": "display_data"
    }
   ],
   "source": [
    "@interact\n",
    "def readingcomments(video=inputdf.video_title.unique()):\n",
    "    comments_words = inputdf.loc[inputdf['video_title'] == video].comments.str.lower().str.cat(sep=' ').split()\n",
    "    comments_as_text_block=\" \".join(comments_words)\n",
    "    tokenizer = RegexpTokenizer(r'\\w+')\n",
    "    result = tokenizer.tokenize(comments_as_text_block)\n",
    "    text = \" \".join(result)\n",
    "    tokens_stopwords = word_tokenize(text)\n",
    "    no_stopwords_tokens = [word for word in tokens_stopwords if not word in stopwords.words()]\n",
    "    #print(no_stopwords_tokens)\n",
    "    #print(text_tokens)\n",
    "    textblock_without_stopwords=\" \".join(no_stopwords_tokens)\n",
    "    textblock_with_stopwords=\" \".join(tokens_stopwords)\n",
    "    top_N = 1000\n",
    "    word_all = pd.DataFrame(Counter(no_stopwords_tokens).most_common(top_N),\n",
    "                    columns=['word', 'Freq']).set_index('word')\n",
    "    word_count=word_all[word_all.Freq>1]\n",
    "    #mask = np.array(Image.open('E:/Insights/logos/cloud.jpg'))\n",
    "    #image_colors = ImageColorGenerator(mask)\n",
    "    #wordcloud = WordCloud(max_font_size=50, max_words=100, background_color=\"white\",mask=mask,color_func = image_colors,contour_width=7, contour_color='blue').generate(textblock_without_stopwords)\n",
    "    #fig=plt.figure(figsize=(12,10))\n",
    "    #plt.imshow(wordcloud, interpolation=\"bilinear\")\n",
    "    #plt.axis(\"off\")\n",
    "    #plt.tight_layout(pad=0)\n",
    "    wordcloud = WordCloud(max_font_size=50, max_words=30, background_color=\"white\").generate(textblock_without_stopwords)\n",
    "    plt.figure()\n",
    "    plt.imshow(wordcloud, interpolation=\"bilinear\")\n",
    "    plt.axis(\"off\")\n",
    "    plt.show()\n",
    "    sent          = TextBlob(textblock_without_stopwords)\n",
    "    polarity      = sent.sentiment.polarity\n",
    "    subjectivity  = sent.sentiment.subjectivity\n",
    "    sent          = TextBlob(text, analyzer = NaiveBayesAnalyzer())\n",
    "    classification= sent.sentiment.classification\n",
    "    positive      = sent.sentiment.p_pos\n",
    "    negative      = sent.sentiment.p_neg\n",
    "    if (polarity <0.2 and polarity >= 0):\n",
    "        Senti=\"Neutral\"\n",
    "    elif (polarity > 0.2):\n",
    "        Senti=\"Positive\"\n",
    "    else:\n",
    "        Senti=\"Negative\"\n",
    "    if (subjectivity <0.2 and subjectivity >= 0):\n",
    "        Senti=\"Neutral\"\n",
    "    elif (polarity > 0.2):\n",
    "        Senti=\"Positive\"\n",
    "    else:\n",
    "        Senti=\"Negative\"\n",
    "    if (subjectivity <0.2):\n",
    "        Subj=\"Highly Objective\"\n",
    "    elif (subjectivity >0.2 and subjectivity >= 0.4):\n",
    "        Subj=\"Slightly Objective\"\n",
    "    elif (subjectivity >0.4 and subjectivity >= 0.6):\n",
    "        Subj=\"Subjective\"\n",
    "    else:\n",
    "        Subj=\"Highly Subjective\"\n",
    "    #global Sentiment\n",
    "    #Heads=[\" Post_id\", 'Video_Title', 'Sentiment on Video','Subjectivity on Video']\n",
    "    #Sentiment=pd.DataFrame(columns=Heads)\n",
    "    #rows =[[video, Senti, Subj]]\n",
    "    rows =[[len(Sentiment),video, Senti, Subj]]\n",
    "    #new_row = pd.Series({'Video_Title': video, 'Sentiment on Video': Senti, 'Subjectivity on Video': Subj})\n",
    "    for each_video_result in rows:\n",
    "             Sentiment.loc[len(Sentiment)] = each_video_result\n",
    "    Sentiment.set_index(\"Post_Id\")\n",
    "    return plt.show(), print(Sentiment)"
   ]
  },
  {
   "cell_type": "code",
   "execution_count": 10,
   "metadata": {},
   "outputs": [
    {
     "data": {
      "text/html": [
       "<div>\n",
       "<style scoped>\n",
       "    .dataframe tbody tr th:only-of-type {\n",
       "        vertical-align: middle;\n",
       "    }\n",
       "\n",
       "    .dataframe tbody tr th {\n",
       "        vertical-align: top;\n",
       "    }\n",
       "\n",
       "    .dataframe thead th {\n",
       "        text-align: right;\n",
       "    }\n",
       "</style>\n",
       "<table border=\"1\" class=\"dataframe\">\n",
       "  <thead>\n",
       "    <tr style=\"text-align: right;\">\n",
       "      <th></th>\n",
       "      <th>Post_Id</th>\n",
       "      <th>Video_Title</th>\n",
       "      <th>Sentiment on Video</th>\n",
       "      <th>Subjectivity on Video</th>\n",
       "    </tr>\n",
       "  </thead>\n",
       "  <tbody>\n",
       "    <tr>\n",
       "      <td>0</td>\n",
       "      <td>0</td>\n",
       "      <td>Maithili Thakur sings her version of \"Perfect\"</td>\n",
       "      <td>Positive</td>\n",
       "      <td>Slightly Objective</td>\n",
       "    </tr>\n",
       "    <tr>\n",
       "      <td>1</td>\n",
       "      <td>1</td>\n",
       "      <td>Zomato</td>\n",
       "      <td>Negative</td>\n",
       "      <td>Slightly Objective</td>\n",
       "    </tr>\n",
       "  </tbody>\n",
       "</table>\n",
       "</div>"
      ],
      "text/plain": [
       "  Post_Id                                     Video_Title Sentiment on Video  \\\n",
       "0  0       Maithili Thakur sings her version of \"Perfect\"  Positive            \n",
       "1  1       Zomato                                          Negative            \n",
       "\n",
       "  Subjectivity on Video  \n",
       "0  Slightly Objective    \n",
       "1  Slightly Objective    "
      ]
     },
     "execution_count": 10,
     "metadata": {},
     "output_type": "execute_result"
    }
   ],
   "source": [
    "Sentiment"
   ]
  },
  {
   "cell_type": "code",
   "execution_count": null,
   "metadata": {},
   "outputs": [],
   "source": []
  }
 ],
 "metadata": {
  "kernelspec": {
   "display_name": "Python 3",
   "language": "python",
   "name": "python3"
  },
  "language_info": {
   "codemirror_mode": {
    "name": "ipython",
    "version": 3
   },
   "file_extension": ".py",
   "mimetype": "text/x-python",
   "name": "python",
   "nbconvert_exporter": "python",
   "pygments_lexer": "ipython3",
   "version": "3.7.4"
  }
 },
 "nbformat": 4,
 "nbformat_minor": 4
}
