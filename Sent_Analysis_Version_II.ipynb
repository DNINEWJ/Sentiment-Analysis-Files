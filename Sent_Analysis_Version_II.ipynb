{
 "cells": [
  {
   "cell_type": "code",
   "execution_count": 1,
   "metadata": {},
   "outputs": [],
   "source": [
    "# importing for ipywidgets\n",
    "from __future__ import print_function\n",
    "from ipywidgets import interact, interactive, fixed, interact_manual\n",
    "import ipywidgets as widgets\n",
    "import re"
   ]
  },
  {
   "cell_type": "code",
   "execution_count": 2,
   "metadata": {},
   "outputs": [],
   "source": [
    "#import to filter warnings\n",
    "import warnings\n",
    "warnings.filterwarnings('ignore')\n",
    "#!pip install numpy\n",
    "import numpy as np\n",
    "import pandas as pd\n",
    "import matplotlib.pyplot as plt\n",
    "import seaborn as sns\n",
    "import matplotlib.ticker as ticker\n",
    "from matplotlib.pyplot import xticks\n",
    "%matplotlib inline\n",
    "sns.set(style=\"whitegrid\")\n",
    "sns.set(rc={'figure.figsize':(16,10)})\n",
    "pd.set_option('display.max_rows', 400)\n",
    "pd.set_option('display.max_columns', 100)\n",
    "pd.set_option('display.max_colwidth', -1)"
   ]
  },
  {
   "cell_type": "code",
   "execution_count": 3,
   "metadata": {},
   "outputs": [],
   "source": [
    "#### convert the next cell to code to install textblob"
   ]
  },
  {
   "cell_type": "markdown",
   "metadata": {},
   "source": [
    "!pip install -U textblob"
   ]
  },
  {
   "cell_type": "code",
   "execution_count": 4,
   "metadata": {},
   "outputs": [
    {
     "name": "stderr",
     "output_type": "stream",
     "text": [
      "[nltk_data] Downloading package stopwords to\n",
      "[nltk_data]     C:\\Users\\Admin\\AppData\\Roaming\\nltk_data...\n",
      "[nltk_data]   Package stopwords is already up-to-date!\n",
      "[nltk_data] Downloading package punkt to\n",
      "[nltk_data]     C:\\Users\\Admin\\AppData\\Roaming\\nltk_data...\n",
      "[nltk_data]   Package punkt is already up-to-date!\n",
      "[nltk_data] Downloading package movie_reviews to\n",
      "[nltk_data]     C:\\Users\\Admin\\AppData\\Roaming\\nltk_data...\n",
      "[nltk_data]   Package movie_reviews is already up-to-date!\n"
     ]
    }
   ],
   "source": [
    "\n",
    "import calendar\n",
    "import datetime as dt\n",
    "from PIL import Image\n",
    "from wordcloud import WordCloud, STOPWORDS, ImageColorGenerator\n",
    "import nltk\n",
    "nltk.download('stopwords')\n",
    "from nltk.corpus import stopwords\n",
    "nltk.download('punkt')\n",
    "nltk.download('movie_reviews')\n",
    "from nltk.tokenize import word_tokenize\n",
    "\n",
    "from nltk.tokenize import RegexpTokenizer\n",
    "from collections import Counter\n",
    "from textblob import TextBlob\n",
    "from textblob.sentiments import NaiveBayesAnalyzer"
   ]
  },
  {
   "cell_type": "code",
   "execution_count": 5,
   "metadata": {},
   "outputs": [
    {
     "name": "stderr",
     "output_type": "stream",
     "text": [
      "[nltk_data] Downloading package twitter_samples to\n",
      "[nltk_data]     C:\\Users\\Admin\\AppData\\Roaming\\nltk_data...\n",
      "[nltk_data]   Package twitter_samples is already up-to-date!\n",
      "[nltk_data] Downloading package wordnet to\n",
      "[nltk_data]     C:\\Users\\Admin\\AppData\\Roaming\\nltk_data...\n",
      "[nltk_data]   Package wordnet is already up-to-date!\n",
      "[nltk_data] Downloading package averaged_perceptron_tagger to\n",
      "[nltk_data]     C:\\Users\\Admin\\AppData\\Roaming\\nltk_data...\n",
      "[nltk_data]   Package averaged_perceptron_tagger is already up-to-\n",
      "[nltk_data]       date!\n"
     ]
    },
    {
     "data": {
      "text/plain": [
       "True"
      ]
     },
     "execution_count": 5,
     "metadata": {},
     "output_type": "execute_result"
    }
   ],
   "source": [
    "nltk.download('twitter_samples')\n",
    "nltk.download('wordnet')\n",
    "nltk.download('averaged_perceptron_tagger')"
   ]
  },
  {
   "cell_type": "markdown",
   "metadata": {},
   "source": [
    "# Put your input in the next block and name it inputdf"
   ]
  },
  {
   "cell_type": "code",
   "execution_count": 32,
   "metadata": {},
   "outputs": [],
   "source": [
    "\n",
    "inputdf=pd.read_excel(\"try.xlsx\",encoding=\"utf-8\")\n"
   ]
  },
  {
   "cell_type": "code",
   "execution_count": 33,
   "metadata": {
    "scrolled": true
   },
   "outputs": [
    {
     "data": {
      "application/vnd.jupyter.widget-view+json": {
       "model_id": "43d2766f7e224f348478be3a1b92384c",
       "version_major": 2,
       "version_minor": 0
      },
      "text/plain": [
       "interactive(children=(Dropdown(description='video', options=('Maithili Thakur sings her version of \"Perfect\"',…"
      ]
     },
     "metadata": {},
     "output_type": "display_data"
    }
   ],
   "source": [
    "@interact\n",
    "def readingcomments(video=inputdf.video_title.unique()):\n",
    "    words = inputdf.loc[inputdf['video_title'] == video].comments[0].lower().split(sep=\"b'\")\n",
    "    textblock=\" \".join(words)\n",
    "    wordsdf= pd.DataFrame(columns=[\"Comments_on_video ---   \" +video],data=words)\n",
    "    return wordsdf"
   ]
  },
  {
   "cell_type": "raw",
   "metadata": {},
   "source": [
    "stopwords.words(\"english\")"
   ]
  },
  {
   "cell_type": "code",
   "execution_count": 35,
   "metadata": {},
   "outputs": [],
   "source": [
    "neg=[ 'ain',\n",
    " 'aren',\n",
    " \"aren't\",\n",
    " 'couldn',\n",
    " \"couldn't\",\n",
    " 'didn',\n",
    " \"didn't\",\n",
    " 'doesn',\n",
    " \"doesn't\",\n",
    " 'hadn',\n",
    " \"hadn't\",\n",
    " 'hasn',\n",
    " \"hasn't\",\n",
    " 'haven',\n",
    " \"haven't\",\n",
    " 'isn',\n",
    " \"isn't\",\n",
    " 'ma',\n",
    " 'mightn',\n",
    " \"mightn't\",\n",
    " 'mustn',\n",
    " \"mustn't\",\n",
    " 'needn',\n",
    " \"needn't\",\n",
    " 'shan',\n",
    " \"shan't\",\n",
    " 'shouldn',\n",
    " \"shouldn't\",\n",
    " 'wasn',\n",
    " \"wasn't\",\n",
    " 'weren',\n",
    " \"weren't\",\n",
    " 'won',\n",
    " \"won't\",\n",
    " 'wouldn',\n",
    " \"wouldn't\",\"not\",\"don't\",\"dont\",\"do not\",\"won't\"]"
   ]
  },
  {
   "cell_type": "code",
   "execution_count": 36,
   "metadata": {},
   "outputs": [],
   "source": [
    "eng_stopwords = stopwords.words('english')\n",
    "eng_stopwords = [x for x in eng_stopwords if x not in neg]"
   ]
  },
  {
   "cell_type": "code",
   "execution_count": 37,
   "metadata": {},
   "outputs": [
    {
     "data": {
      "text/html": [
       "<div>\n",
       "<style scoped>\n",
       "    .dataframe tbody tr th:only-of-type {\n",
       "        vertical-align: middle;\n",
       "    }\n",
       "\n",
       "    .dataframe tbody tr th {\n",
       "        vertical-align: top;\n",
       "    }\n",
       "\n",
       "    .dataframe thead th {\n",
       "        text-align: right;\n",
       "    }\n",
       "</style>\n",
       "<table border=\"1\" class=\"dataframe\">\n",
       "  <thead>\n",
       "    <tr style=\"text-align: right;\">\n",
       "      <th></th>\n",
       "      <th>Post_Id</th>\n",
       "      <th>Video_Title</th>\n",
       "      <th>Sentiment on Video</th>\n",
       "      <th>Subjectivity on Video</th>\n",
       "    </tr>\n",
       "  </thead>\n",
       "  <tbody>\n",
       "  </tbody>\n",
       "</table>\n",
       "</div>"
      ],
      "text/plain": [
       "Empty DataFrame\n",
       "Columns: [Post_Id, Video_Title, Sentiment on Video, Subjectivity on Video]\n",
       "Index: []"
      ]
     },
     "execution_count": 37,
     "metadata": {},
     "output_type": "execute_result"
    }
   ],
   "source": [
    "global Sentiment\n",
    "Heads=[\"Post_Id\",'Video_Title', 'Sentiment on Video','Subjectivity on Video']\n",
    "Sentiment=pd.DataFrame(columns=Heads)\n",
    "Sentiment"
   ]
  },
  {
   "cell_type": "code",
   "execution_count": 20,
   "metadata": {},
   "outputs": [],
   "source": [
    "new=\"This is how Corona smiles at people!,Not a bad idea if we cancel our order few times to gift these hard working delivery boys.,The reason behind his smile.😂🤣,He is actually cool,,, happy in watever the life is giving,,, good,,, this is a great skill,,,,, I need to develop it,,This smile is natural for every Sonu!Even in the worst situation they smile the same!!😉😬🤫,Now Zomato company will use this man sonu as sona... like gold.. to improve its business,How come his lips never touch together?,He seems to be high on marijuana :O,Ohbhaaiii Maro Mujhe Maro,The boy you are looking at is the delivery boy, this boy is my classmate And it stays near my house😂😂😂😂,Smiling is very good but not everywhere, suppose if there is funeral going on and you are still smiling then can you imagine what will happen😂,I want this level of satisfaction from my life....,When they come to deliver, we should ask them for tea/water, treat them respectfully.... often people do not behave good with them.,For those who don't know, 350 rupees is around 5 dollars. That's 5 dollars for 12 hours of work.,When delivery boy arrives, cancel the order infront of him and enjoy the free food together,350 rupees for 12 hours( with incentives included) still the man laugh wow ??? ,I wish everyone should have such an amazing temperament. Specially in this era of negativity and doubts.🙏🙏,I wish everyone could smile like you Mr.Sonu.. Ur making this world a better place by just smiling and accepting your life.. loads of love 😘😘 God bless,He is so innocent... Why is he getting trolled! He works hard..,His smile and positive attitude is contagious. We should all smile more often 🙂,Such a innocent guy with the cute smile on his face... Appreciate you brother,Hi Danish your work is raly appriciable becoz you have found amazing smile as Sonu...,He is living actually. He is happy whatever he have. 🙂,🔥😎😂,🤣,😂😍😍😍😂, 😊☺️😁 🤪 😂,Earning 350 and eating 1000 rs butter chicken from cancel delivery very nice work,His smile is highly contagious,Serial killer smile.. 🙈🙈🙈🙈🙈,Helmet shot is the best,Let’s cancel our order at least once in a month for Sunos of our areas! ,He is so happy with his job.. keep smile,We have found richest than ambani,Hassan Arain young ala ni lg rya? 🤣,Iske pagar pe hasne ki nahi rone k baat hai, aur kehte hai garibi Kam hui,Great thing is he is happy with whatever he has which is very rare,Kv arts teacher Geography shiv sir,The laughter of the people rather than the video is laughing at me laughing🤣🤣\" \n"
   ]
  },
  {
   "cell_type": "code",
   "execution_count": 38,
   "metadata": {},
   "outputs": [
    {
     "data": {
      "application/vnd.jupyter.widget-view+json": {
       "model_id": "33d5302ff023477ea5fee0fb22eda3ef",
       "version_major": 2,
       "version_minor": 0
      },
      "text/plain": [
       "interactive(children=(Dropdown(description='video', options=('Maithili Thakur sings her version of \"Perfect\"',…"
      ]
     },
     "metadata": {},
     "output_type": "display_data"
    }
   ],
   "source": [
    "@interact\n",
    "def readingcomments(video=inputdf.video_title.unique()):\n",
    "    comments_words = inputdf.loc[inputdf['video_title'] == video].comments.str.lower().str.cat(sep=' ').split()\n",
    "    comments_as_text_block=\" \".join(comments_words)\n",
    "    tokenizer = RegexpTokenizer(r'\\w+')\n",
    "    result = tokenizer.tokenize(comments_as_text_block)\n",
    "    text = \" \".join(result)\n",
    "    tokens_stopwords = word_tokenize(text)\n",
    "    no_stopwords_tokens = [word for word in tokens_stopwords if not word in stopwords.words()]\n",
    "    #print(no_stopwords_tokens)\n",
    "    #print(text_tokens)\n",
    "    textblock_without_stopwords=\" \".join(no_stopwords_tokens)\n",
    "    textblock_with_stopwords=\" \".join(tokens_stopwords)\n",
    "    top_N = 1000\n",
    "    word_all = pd.DataFrame(Counter(no_stopwords_tokens).most_common(top_N),\n",
    "                    columns=['word', 'Freq']).set_index('word')\n",
    "    word_count=word_all[word_all.Freq>1]\n",
    "    #mask = np.array(Image.open('E:/Insights/logos/cloud.jpg'))\n",
    "    #image_colors = ImageColorGenerator(mask)\n",
    "    #wordcloud = WordCloud(max_font_size=50, max_words=100, background_color=\"white\",mask=mask,color_func = image_colors,contour_width=7, contour_color='blue').generate(textblock_without_stopwords)\n",
    "    #fig=plt.figure(figsize=(12,10))\n",
    "    #plt.imshow(wordcloud, interpolation=\"bilinear\")\n",
    "    #plt.axis(\"off\")\n",
    "    #plt.tight_layout(pad=0)\n",
    "    wordcloud = WordCloud(max_font_size=50, max_words=30, background_color=\"white\").generate(textblock_without_stopwords)\n",
    "    plt.figure()\n",
    "    plt.imshow(wordcloud, interpolation=\"bilinear\")\n",
    "    plt.axis(\"off\")\n",
    "    plt.show()\n",
    "    sent          = TextBlob(textblock_without_stopwords)\n",
    "    polarity      = sent.sentiment.polarity\n",
    "    subjectivity  = sent.sentiment.subjectivity\n",
    "    sent          = TextBlob(text, analyzer = NaiveBayesAnalyzer())\n",
    "    classification= sent.sentiment.classification\n",
    "    positive      = sent.sentiment.p_pos\n",
    "    negative      = sent.sentiment.p_neg\n",
    "    if (polarity <0.2 and polarity >= 0):\n",
    "        Senti=\"Neutral\"\n",
    "    elif (polarity > 0.2):\n",
    "        Senti=\"Positive\"\n",
    "    else:\n",
    "        Senti=\"Negative\"\n",
    "    if (subjectivity <0.2 and subjectivity >= 0):\n",
    "        Senti=\"Neutral\"\n",
    "    elif (polarity > 0.2):\n",
    "        Senti=\"Positive\"\n",
    "    else:\n",
    "        Senti=\"Negative\"\n",
    "    if (subjectivity <0.2):\n",
    "        Subj=\"Highly Objective\"\n",
    "    elif (subjectivity >0.2 and subjectivity >= 0.4):\n",
    "        Subj=\"Slightly Objective\"\n",
    "    elif (subjectivity >0.4 and subjectivity >= 0.6):\n",
    "        Subj=\"Subjective\"\n",
    "    else:\n",
    "        Subj=\"Highly Subjective\"\n",
    "    #global Sentiment\n",
    "    #Heads=[\" Post_id\", 'Video_Title', 'Sentiment on Video','Subjectivity on Video']\n",
    "    #Sentiment=pd.DataFrame(columns=Heads)\n",
    "    #rows =[[video, Senti, Subj]]\n",
    "    rows =[[len(Sentiment),video, Senti, Subj]]\n",
    "    #new_row = pd.Series({'Video_Title': video, 'Sentiment on Video': Senti, 'Subjectivity on Video': Subj})\n",
    "    for each_video_result in rows:\n",
    "             Sentiment.loc[len(Sentiment)] = each_video_result\n",
    "    Sentiment.set_index(\"Post_Id\")\n",
    "    return plt.show(), print(Sentiment), polarity"
   ]
  },
  {
   "cell_type": "code",
   "execution_count": 39,
   "metadata": {},
   "outputs": [
    {
     "data": {
      "text/html": [
       "<div>\n",
       "<style scoped>\n",
       "    .dataframe tbody tr th:only-of-type {\n",
       "        vertical-align: middle;\n",
       "    }\n",
       "\n",
       "    .dataframe tbody tr th {\n",
       "        vertical-align: top;\n",
       "    }\n",
       "\n",
       "    .dataframe thead th {\n",
       "        text-align: right;\n",
       "    }\n",
       "</style>\n",
       "<table border=\"1\" class=\"dataframe\">\n",
       "  <thead>\n",
       "    <tr style=\"text-align: right;\">\n",
       "      <th></th>\n",
       "      <th>Post_Id</th>\n",
       "      <th>Video_Title</th>\n",
       "      <th>Sentiment on Video</th>\n",
       "      <th>Subjectivity on Video</th>\n",
       "    </tr>\n",
       "  </thead>\n",
       "  <tbody>\n",
       "    <tr>\n",
       "      <td>0</td>\n",
       "      <td>0</td>\n",
       "      <td>Maithili Thakur sings her version of \"Perfect\"</td>\n",
       "      <td>Positive</td>\n",
       "      <td>Slightly Objective</td>\n",
       "    </tr>\n",
       "  </tbody>\n",
       "</table>\n",
       "</div>"
      ],
      "text/plain": [
       "  Post_Id                                     Video_Title Sentiment on Video  \\\n",
       "0  0       Maithili Thakur sings her version of \"Perfect\"  Positive            \n",
       "\n",
       "  Subjectivity on Video  \n",
       "0  Slightly Objective    "
      ]
     },
     "execution_count": 39,
     "metadata": {},
     "output_type": "execute_result"
    }
   ],
   "source": [
    "Sentiment"
   ]
  },
  {
   "cell_type": "code",
   "execution_count": 23,
   "metadata": {},
   "outputs": [],
   "source": [
    "comment='😉😬🤫,Now Zomato company will use this man sonu as 😂😂😂😂'"
   ]
  },
  {
   "cell_type": "code",
   "execution_count": 30,
   "metadata": {},
   "outputs": [
    {
     "data": {
      "image/png": "[encoded data removed]",
      "text/plain": [
       "<Figure size 432x288 with 1 Axes>"
      ]
     },
     "metadata": {
      "needs_background": "light"
     },
     "output_type": "display_data"
    }
   ],
   "source": [
    "    comments_words = comment.lower().split()\n",
    "    comments_as_text_block=\" \".join(comments_words)\n",
    "    tokenizer = RegexpTokenizer(r'\\w+')\n",
    "    result = tokenizer.tokenize(comments_as_text_block)\n",
    "    text = \" \".join(result)\n",
    "    tokens_stopwords = word_tokenize(text)\n",
    "    no_stopwords_tokens = [word for word in tokens_stopwords if not word in stopwords.words()]\n",
    "    #print(no_stopwords_tokens)\n",
    "    #print(text_tokens)\n",
    "    textblock_without_stopwords=\" \".join(no_stopwords_tokens)\n",
    "    textblock_with_stopwords=\" \".join(tokens_stopwords)\n",
    "    top_N = 1000\n",
    "    word_all = pd.DataFrame(Counter(tokens_stopwords).most_common(top_N),\n",
    "                    columns=['word', 'Freq']).set_index('word')\n",
    "    word_count=word_all[word_all.Freq>1]\n",
    "    #mask = np.array(Image.open('E:/Insights/logos/cloud.jpg'))\n",
    "    #image_colors = ImageColorGenerator(mask)\n",
    "    #wordcloud = WordCloud(max_font_size=50, max_words=100, background_color=\"white\",mask=mask,color_func = image_colors,contour_width=7, contour_color='blue').generate(textblock_without_stopwords)\n",
    "    #fig=plt.figure(figsize=(12,10))\n",
    "    #plt.imshow(wordcloud, interpolation=\"bilinear\")\n",
    "    #plt.axis(\"off\")\n",
    "    #plt.tight_layout(pad=0)\n",
    "    wordcloud = WordCloud(max_font_size=50, max_words=30, background_color=\"white\").generate(textblock_without_stopwords)\n",
    "    plt.figure()\n",
    "    plt.imshow(wordcloud, interpolation=\"bilinear\")\n",
    "    plt.axis(\"off\")\n",
    "    plt.show()"
   ]
  },
  {
   "cell_type": "code",
   "execution_count": 31,
   "metadata": {},
   "outputs": [
    {
     "data": {
      "text/html": [
       "<div>\n",
       "<style scoped>\n",
       "    .dataframe tbody tr th:only-of-type {\n",
       "        vertical-align: middle;\n",
       "    }\n",
       "\n",
       "    .dataframe tbody tr th {\n",
       "        vertical-align: top;\n",
       "    }\n",
       "\n",
       "    .dataframe thead th {\n",
       "        text-align: right;\n",
       "    }\n",
       "</style>\n",
       "<table border=\"1\" class=\"dataframe\">\n",
       "  <thead>\n",
       "    <tr style=\"text-align: right;\">\n",
       "      <th></th>\n",
       "      <th>Freq</th>\n",
       "    </tr>\n",
       "    <tr>\n",
       "      <th>word</th>\n",
       "      <th></th>\n",
       "    </tr>\n",
       "  </thead>\n",
       "  <tbody>\n",
       "    <tr>\n",
       "      <td>now</td>\n",
       "      <td>1</td>\n",
       "    </tr>\n",
       "    <tr>\n",
       "      <td>zomato</td>\n",
       "      <td>1</td>\n",
       "    </tr>\n",
       "    <tr>\n",
       "      <td>company</td>\n",
       "      <td>1</td>\n",
       "    </tr>\n",
       "    <tr>\n",
       "      <td>will</td>\n",
       "      <td>1</td>\n",
       "    </tr>\n",
       "    <tr>\n",
       "      <td>use</td>\n",
       "      <td>1</td>\n",
       "    </tr>\n",
       "    <tr>\n",
       "      <td>this</td>\n",
       "      <td>1</td>\n",
       "    </tr>\n",
       "    <tr>\n",
       "      <td>man</td>\n",
       "      <td>1</td>\n",
       "    </tr>\n",
       "    <tr>\n",
       "      <td>sonu</td>\n",
       "      <td>1</td>\n",
       "    </tr>\n",
       "    <tr>\n",
       "      <td>as</td>\n",
       "      <td>1</td>\n",
       "    </tr>\n",
       "  </tbody>\n",
       "</table>\n",
       "</div>"
      ],
      "text/plain": [
       "         Freq\n",
       "word         \n",
       "now      1   \n",
       "zomato   1   \n",
       "company  1   \n",
       "will     1   \n",
       "use      1   \n",
       "this     1   \n",
       "man      1   \n",
       "sonu     1   \n",
       "as       1   "
      ]
     },
     "execution_count": 31,
     "metadata": {},
     "output_type": "execute_result"
    }
   ],
   "source": [
    "word_all"
   ]
  },
  {
   "cell_type": "code",
   "execution_count": null,
   "metadata": {},
   "outputs": [],
   "source": []
  }
 ],
 "metadata": {
  "kernelspec": {
   "display_name": "Python 3",
   "language": "python",
   "name": "python3"
  },
  "language_info": {
   "codemirror_mode": {
    "name": "ipython",
    "version": 3
   },
   "file_extension": ".py",
   "mimetype": "text/x-python",
   "name": "python",
   "nbconvert_exporter": "python",
   "pygments_lexer": "ipython3",
   "version": "3.7.4"
  }
 },
 "nbformat": 4,
 "nbformat_minor": 4
}
